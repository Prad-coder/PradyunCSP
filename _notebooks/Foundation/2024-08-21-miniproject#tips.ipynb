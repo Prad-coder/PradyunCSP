{
 "cells": [
  {
   "cell_type": "raw",
   "metadata": {
    "vscode": {
     "languageId": "raw"
    }
   },
   "source": [
    "---\n",
    "layout: post\n",
    "title: Tips & Tricks \n",
    "description:  Tips & Tricks for Gaming Blog\n",
    "type: issues \n",
    "comments: true\n",
    "menu: nav/miniproject.html\n",
    "---"
   ]
  },
  {
   "cell_type": "markdown",
   "metadata": {
    "vscode": {
     "languageId": "html"
    }
   },
   "source": [
    "<html lang=\"en\">\n",
    "<body>\n",
    "    <main>\n",
    "        <section id=\"tips\">\n",
    "            <div class=\"container\">\n",
    "                <p>Enhance your gaming skills with these useful tips and tricks. Whether you're a novice or a pro, you'll find valuable advice to improve your gameplay.</p>\n",
    "                <button id=\"randomTipButton\">Get Random Tip</button>\n",
    "                <p id=\"randomTip\"></p>\n",
    "            </div>\n",
    "    <script>\n",
    "        document.getElementById('randomTipButton').addEventListener('click', function() {\n",
    "            const tips = [\n",
    "                'The Legend of Zelda: Breath of the Wild - Explore Everywhere: The game’s vast world is filled with hidden treasures and unique encounters. Climb any mountain or tower you see to unlock new areas on your map.',\n",
    "                'The Legend of Zelda: Breath of the Wild - Experiment with Cooking: Combining different ingredients can result in powerful dishes and elixirs that restore health and grant temporary boosts. Experiment to find recipes that suit your playstyle.',\n",
    "                'The Elder Scrolls V: Skyrim - Join Factions: Engage with different factions like the Thieves Guild, Dark Brotherhood, and Companions for unique quests, rewards, and storylines.',\n",
    "                'The Elder Scrolls V: Skyrim - Level Up Skills: Focus on developing specific skills like smithing, enchanting, or alchemy to enhance your equipment and abilities. It can make your journey easier and more enjoyable.',\n",
    "                'Minecraft - Start with a Shelter: Begin by building a simple shelter to protect yourself from monsters at night. Collect resources like wood and stone to upgrade your tools and weapons.',\n",
    "                'Minecraft - Mine Strategically: Dig down to find valuable resources like diamonds and iron, but be cautious of lava and cave systems. Use a staircase or ladder system to avoid getting lost.',\n",
    "                'Red Dead Redemption 2 - Pay Attention to Honor: Your actions affect your honor rating, which influences how NPCs interact with you and affects the storyline. Choose your actions wisely to maintain a high honor rating.',\n",
    "                'Red Dead Redemption 2 - Explore the World: The game’s open world is full of dynamic events, wildlife, and secrets. Take your time to explore and engage with the environment.',\n",
    "                'Overwatch - Play as a Team: Overwatch is a team-based game where coordination is key. Communicate with your team and choose heroes that complement each other’s abilities.',\n",
    "                'Overwatch - Master Multiple Heroes: While specializing in one hero can be beneficial, being versatile and understanding multiple heroes’ abilities can help you adapt to various situations.',\n",
    "                'Hades - Experiment with Builds: Try different weapon and boon combinations to find a build that suits your playstyle. Each run can be different, so experimenting can help you find effective strategies.',\n",
    "                'Hades - Upgrade Daedalus Hammer and Boons: These are crucial for enhancing your weapons and abilities. Prioritize upgrading them to make each run smoother.',\n",
    "                'The Witcher 3: Wild Hunt - Explore Secondary Quests: Many secondary quests have rich stories and valuable rewards. Explore them to get the most out of the game.',\n",
    "                'The Witcher 3: Wild Hunt - Upgrade Gear: Collect and craft better gear to enhance Geralt’s combat effectiveness. The Witcher gear sets, in particular, provide significant bonuses.',\n",
    "                'Among Us - Communicate Clearly: Good communication is key in Among Us. Share information, discuss suspicions, and listen to others to deduce who the impostors are.',\n",
    "                'Among Us - Complete Tasks Efficiently: As a crewmate, focus on completing tasks while keeping an eye on suspicious behavior. Efficient task completion helps your team win.',\n",
    "                'Celeste - Practice Makes Perfect: The game’s levels are designed to be challenging but fair. Keep practicing, and don’t get discouraged by difficulty.',\n",
    "                'Celeste - Use Dash Wisely: Your dash ability is essential for navigating tricky sections. Learn to use it strategically to avoid obstacles and reach platforms.',\n",
    "                'Fortnite - Master Building Mechanics: Building structures quickly and efficiently can give you a significant advantage in battles. Practice building to improve your skills.',\n",
    "                'Fortnite - Stay Updated on Meta Changes: Fortnite frequently updates its content, including weapon balancing and new items. Stay informed about changes to adapt your strategies.'\n",
    "            ];\n",
    "            const randomTip = tips[Math.floor(Math.random() * tips.length)];\n",
    "            document.getElementById('randomTip').textContent = randomTip;\n",
    "        });\n",
    "                </script>"
   ]
  }
 ],
 "metadata": {
  "language_info": {
   "name": "python"
  }
 },
 "nbformat": 4,
 "nbformat_minor": 2
}
