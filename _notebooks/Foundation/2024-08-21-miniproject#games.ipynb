{
 "cells": [
  {
   "cell_type": "raw",
   "metadata": {
    "vscode": {
     "languageId": "raw"
    }
   },
   "source": [
    "---\n",
    "layout: post\n",
    "title: Games\n",
    "description:  Games for Gaming Blog\n",
    "type: issues \n",
    "comments: true\n",
    "menu: nav/miniproject.html\n",
    "---"
   ]
  },
  {
   "cell_type": "markdown",
   "metadata": {
    "vscode": {
     "languageId": "html"
    }
   },
   "source": [
    "<html lang=\"en\">\n",
    "<body>\n",
    "    <main>\n",
    "        <section id=\"games\">\n",
    "            <div class=\"container\">\n",
    "                <p><h3>1. The Legend of Zelda: Breath of the Wild (2017)</h3><strong>Genre:</strong> Action-Adventure<br><strong>Platform:</strong> Nintendo Switch, Wii U<br><strong>Details:</strong> An open-world game that revolutionized the Zelda series with its vast, explorable world and physics-based interactions. Players control Link as he explores the kingdom of Hyrule, solving puzzles, battling enemies, and uncovering secrets. The game features a dynamic weather system and a focus on player freedom and exploration.</p>\n",
    "                <p><h3>2. The Elder Scrolls V: Skyrim (2011)</h3><strong>Genre:</strong> Role-Playing Game(RPG)<br><strong>Platform:</strong> PC, PlayStation, Xbox, Nintendo Switch<br><strong>Details:</strong> Set in the fantasy world of Tamriel, Skyrim offers a massive open world with a deep narrative, rich lore, and extensive character customization. Players can engage in quests, join factions, and develop their skills and abilities. The game is known for its modding community and numerous re-releases on different platforms.</p>\n",
    "                <p><h3>3. Minecraft (2011)</h3><strong>Genre:</strong> Sandbox/Survival<br><strong>Platform:</strong> PC, Console, Mobile<br><strong>Details:</strong> A block-building game that allows players to create and explore procedurally generated worlds made of blocks. It features a survival mode where players must gather resources and fend off creatures, and a creative mode that enables unlimited building. Minecraft's simple yet powerful mechanics have made it a cultural phenomenon.</p>\n",
    "                <p><h3>4. Red Dead Redemption 2 (2018)</h3><strong>Genre:</strong> Action-Adventure<br><strong>Platform:</strong> PC, Playstation, Xbox<br><strong>Details:</strong> Set in the late 1800s, this open-world game follows Arthur Morgan, an outlaw and member of the Van der Linde gang. The game is praised for its detailed world, storytelling, and realistic depiction of the American frontier. It features a living world with dynamic weather and a complex honor system affecting player choices.</p>\n",
    "                <p><h3>5. Overwatch (2016)</h3><strong>Genre:</strong> First-Person Shooter(FPS)<br><strong>Platform:</strong> PC, PlayStation, Xbox, Nintendo Switch<br><strong>Details:</strong> A team-based shooter with a diverse roster of heroes, each with unique abilities. Players work in teams to complete objectives and compete in various game modes. The game is known for its vibrant art style, diverse character roster, and emphasis on teamwork and strategy.</p>\n",
    "                <p><h3>6. Hades (2020)</h3><strong>Genre:</strong> Roguelike Dungeon Crawler<br><strong>Platform:</strong> PC, Nintendo Switch, PlayStation, Xbox<br><strong>Details:</strong> A critically acclaimed roguelike game set in the Greek underworld. Players control Zagreus, the son of Hades, as he attempts to escape the Underworld. The game features fast-paced combat, a rich narrative with character interactions, and a unique art style. Its replayability is enhanced by procedurally generated levels and a variety of upgrades.</p>\n",
    "                <p><h3>7. The Witcher 3: Wild Hunt (2015)</h3><strong>Genre:</strong> Role-Playing Game(RPG)<br><strong>Platform:</strong> PC, Nintendo Switch, PlayStation, Xbox<br><strong>Details:</strong> This RPG follows Geralt of Rivia, a monster hunter, in a sprawling open world filled with quests, complex characters, and branching storylines. Known for its deep narrative, detailed world, and moral choices, it has won numerous Game of the Year awards. The game also includes two major expansions, \"Hearts of Stone\" and \"Blood and Wine.\"</p>\n",
    "                <p><h3>8. Among Us (2018)</h3><strong>Genre:</strong> Social Deduction<br><strong>Platform:</strong> PC, Mobile, Console<br><strong>Details:</strong> A multiplayer game where players work together to complete tasks on a spaceship while impostors attempt to sabotage their efforts and eliminate crew members. The game relies heavily on social interaction, communication, and deception, making each session unique and engaging.</p>\n",
    "                <p><h3>9. Celeste (2018)</h3><strong>Genre:</strong> Platformer<br><strong>Platform:</strong> PC, PlayStation, Xbox, Nintendo Switch<br><strong>Details:</strong> A platforming game about climbing a mountain, both physically and metaphorically. It features tight, precise controls and challenging levels, combined with a touching narrative about overcoming personal struggles. The game is praised for its gameplay, music, and story.</p>\n",
    "                <p><h3>10. Fortnite (2017)</h3><strong>Genre:</strong> Battle Royale/Survival<br><strong>Platform:</strong> PC, PlayStation, Xbox, Nintendo Switch, Mobile<br><strong>Details:</strong> A massively popular battle royale game where 100 players fight to be the last one standing. Known for its building mechanics, colorful art style, and frequent updates, Fortnite has become a major cultural phenomenon with its integration of events and collaborations with various franchises.</p>\n",
    "            </div>\n",
    "        </section>"
   ]
  }
 ],
 "metadata": {
  "language_info": {
   "name": "python"
  }
 },
 "nbformat": 4,
 "nbformat_minor": 2
}
