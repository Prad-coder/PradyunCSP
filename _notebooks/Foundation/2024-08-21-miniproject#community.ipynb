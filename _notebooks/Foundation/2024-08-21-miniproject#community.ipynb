{
 "cells": [
  {
   "cell_type": "raw",
   "metadata": {
    "vscode": {
     "languageId": "raw"
    }
   },
   "source": [
    "---\n",
    "layout: post\n",
    "title: Community \n",
    "description:  Community for Gaming Blog\n",
    "type: issues \n",
    "comments: true\n",
    "menu: nav/miniproject.html\n",
    "---"
   ]
  },
  {
   "cell_type": "markdown",
   "metadata": {
    "vscode": {
     "languageId": "html"
    }
   },
   "source": [
    "<html lang=\"en\">\n",
    "<body>\n",
    "    <main>\n",
    "        <section id=\"community\">\n",
    "            <div class=\"container\">\n",
    "                <p><strong>The Legend of Zelda: Breath of the Wild</strong> - The community is passionate and creative, often focused on exploration, lore, and modding. Fans share discoveries about the game's secrets, create fan art, and discuss theories about Hyrule's history. The modding community is smaller compared to some other games but is dedicated to enhancing or altering the gameplay experience. Platforms include Twitter, Reddit, Fan Forums, and Youtube channels.<br><strong>The Elder Scrolls V: Skyrim</strong> - Skyrim has one of the most vibrant and extensive communities in gaming. The community is known for its modding culture, with thousands of mods available that drastically change the game. Fans are also active in discussing lore, role-playing, and creating content like fan fiction and machinima. Platforms include Reddit, Nexus Mods, and the Steam Community.<br><strong>Minecraft</strong> - Minecraft boasts a diverse and global community, including players of all ages. The community is known for its creativity in building, modding, and community events. There are numerous fan-made servers, custom mods, and content creators who focus on everything from survival challenges to intricate redstone contraptions. Platforms include Reddit, Minecraft forums, YouTube, Twitch, and Discord servers.<br><strong>Red Dead Redemption 2</strong> - The community is deeply invested in the game's rich storytelling and immersive world. Players discuss narrative elements, role-playing in online modes, and share screenshots and stories from their adventures. The modding community is active but somewhat smaller compared to older titles. Platforms include Reddit, Rockstar Games forums, and YouTube.<br><strong>Overwatch</strong> - Overwatch’s community is very engaged with its competitive scene and diverse roster of heroes. Discussions often revolve around strategies, hero balance, and competitive play. The community also enjoys creating fan art, cosplay, and lore content. The game's emphasis on teamwork fosters a collaborative environment. Platforms include Reddit, Discord, YouTube, and official Blizzard forums.<br><strong>Hades</strong> - Hades has a dedicated community that enjoys its fast-paced gameplay and rich narrative. Fans are active in discussing strategies, sharing their runs, and exploring the game’s story. The modding community is growing, with mods focusing on new content and quality-of-life improvements. Platforms include Reddit, Discord, YouTube, and Steam Community.<br><strong>The Witcher 3: Wild Hunt</strong> - The Witcher 3 has a strong community centered around its deep narrative and complex characters. Fans engage in discussions about the lore, story, and characters, and are very active in creating and sharing mods. The modding community is robust, offering everything from graphical enhancements to new questlines. Platforms include Reddit, Nexus Mods, and CD Projekt Red forums.<br><strong>Among Us</strong> - Among Us has a vibrant and dynamic community focused on social deduction and gameplay strategies. Players often share tips, strategies, and funny moments from their sessions. The modding scene is growing, with mods adding new roles and features to enhance the gameplay experience. Platforms include Reddit, Discord, YouTube, and Twitch.<br><strong>Celeste</strong> - Celeste’s community is known for its supportive and passionate nature. Fans discuss strategies for tackling difficult levels, share speedrun techniques, and create fan art and music. The modding community is active, with new levels and content regularly being created and shared. Platforms include Reddit, Discord, and various fan forums and YouTube.<br><strong>Fortnite</strong> - Fortnite’s community is massive and highly diverse, with a strong focus on competitive play and creative expression. The community is known for its fan-created content, including custom maps and game modes, as well as its involvement in events and collaborations with other franchises. The game's frequent updates and seasonal events keep the community engaged and active. Platforms include Reddit, Discord, YouTube, and Twitch.</p>\n",
    "            </div>\n",
    "        </section>\n",
    "    </main>\n",
    "</body>\n",
    "</html>"
   ]
  }
 ],
 "metadata": {
  "language_info": {
   "name": "python"
  }
 },
 "nbformat": 4,
 "nbformat_minor": 2
}
