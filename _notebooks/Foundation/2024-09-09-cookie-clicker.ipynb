{
 "cells": [
  {
   "cell_type": "raw",
   "metadata": {
    "vscode": {
     "languageId": "raw"
    }
   },
   "source": [
    "---\n",
    "layout: post\n",
    "title: Cookie Clicker \n",
    "description:  Click some cookies!\n",
    "type: issues \n",
    "comments: true\n",
    "---"
   ]
  },
  {
   "cell_type": "markdown",
   "metadata": {},
   "source": [
    "<html lang=\"en\">\n",
    "<head>\n",
    "    <meta charset=\"UTF-8\">\n",
    "    <meta name=\"viewport\" content=\"width=device-width, initial-scale=1.0\">\n",
    "    <title>Cookie Clicker Game</title>\n",
    "</head>\n",
    "<body>\n",
    "    <h1>Cookie Clicker Game</h1>\n",
    "    <div id=\"cookieCount\">Cookies: 0</div>\n",
    "    <button id=\"cookieButton\">\n",
    "        <img src=\"{{site.baseurl}}/images/CookieClickerImage-removebg-preview (1).png\" alt=\"Cookie\">\n",
    "    </button><br>\n",
    "    <button id=\"upgradeButton\">Upgrade Auto-Clicker (Cost: 10 Cookies)</button>\n",
    "    <div id=\"upgradeInfo\">Auto-Clicker Level: 0</div>\n",
    "    <audio id=\"clickSound\" src=\"{{site.baseurl}}/audio/068243_crunchy-cookie-eatingwav-81661.mp3\"></audio>\n",
    "    <script>\n",
    "        let cookieCount = 0;\n",
    "let autoClickerLevel = 0;\n",
    "let autoClickerCost = 10;\n",
    "let cookiesPerSecond = 0;\n",
    "const cookieCountDisplay = document.getElementById(\"cookieCount\");\n",
    "const cookieButton = document.getElementById(\"cookieButton\");\n",
    "const upgradeButton = document.getElementById(\"upgradeButton\");\n",
    "const upgradeInfo = document.getElementById(\"upgradeInfo\");\n",
    "const clickSound = document.getElementById(\"clickSound\");\n",
    "// Function to update cookie count display\n",
    "function updateDisplay() {\n",
    "    cookieCountDisplay.textContent = `Cookies: ${cookieCount}`;\n",
    "    upgradeInfo.textContent = `Auto-Clicker Level: ${autoClickerLevel}`;\n",
    "    upgradeButton.textContent = `Upgrade Auto-Clicker (Cost: ${autoClickerCost} Cookies)`;\n",
    "}\n",
    "// Click cookie button\n",
    "cookieButton.addEventListener(\"click\", () => {\n",
    "    cookieCount++;\n",
    "    clickSound.play(); // Play the sound\n",
    "    updateDisplay();\n",
    "});\n",
    "// Upgrade auto-clicker\n",
    "upgradeButton.addEventListener(\"click\", () => {\n",
    "    if (cookieCount >= autoClickerCost) {\n",
    "        cookieCount -= autoClickerCost;\n",
    "        autoClickerLevel++;\n",
    "        cookiesPerSecond++;\n",
    "        autoClickerCost = Math.floor(autoClickerCost * 1.5); // Increase cost\n",
    "        updateDisplay();\n",
    "    }\n",
    "});\n",
    "// Automatically collect cookies\n",
    "setInterval(() => {\n",
    "    cookieCount += cookiesPerSecond;\n",
    "    updateDisplay();\n",
    "}, 1000);\n",
    "// Initial display update\n",
    "updateDisplay();\n",
    "    </script>\n",
    "</body>\n",
    "</html>\n"
   ]
  }
 ],
 "metadata": {
  "language_info": {
   "name": "python"
  }
 },
 "nbformat": 4,
 "nbformat_minor": 2
}
