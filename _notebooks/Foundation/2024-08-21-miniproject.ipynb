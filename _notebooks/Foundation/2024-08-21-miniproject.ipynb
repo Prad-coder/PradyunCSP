{
 "cells": [
  {
   "cell_type": "raw",
   "metadata": {
    "vscode": {
     "languageId": "raw"
    }
   },
   "source": [
    "---\n",
    "layout: post\n",
    "title: Mini Project \n",
    "description:  Gaming Blog!\n",
    "type: issues \n",
    "comments: true\n",
    "menu: nav/miniproject.html\n",
    "---"
   ]
  },
  {
   "cell_type": "markdown",
   "metadata": {
    "vscode": {
     "languageId": "html"
    }
   },
   "source": [
    "<html lang=\"en\">\n",
    "<head>\n",
    "    <meta charset=\"UTF-8\">\n",
    "    <meta name=\"viewport\" content=\"width=device-width, initial-scale=1.0\">\n",
    "    <title>Gaming Blog</title>\n",
    "</head>\n",
    "<body>\n",
    "    <main>\n",
    "        <section id=\"games\">\n",
    "            <div class=\"container\">\n",
    "                <h2>Games</h2>\n",
    "                <p><h3>1. The Legend of Zelda: Breath of the Wild (2017)</h3><strong>Genre:</strong> Action-Adventure<br><strong>Platform:</strong> Nintendo Switch, Wii U<br><strong>Details:</strong> An open-world game that revolutionized the Zelda series with its vast, explorable world and physics-based interactions. Players control Link as he explores the kingdom of Hyrule, solving puzzles, battling enemies, and uncovering secrets. The game features a dynamic weather system and a focus on player freedom and exploration.</p>\n",
    "                <p><h3>2. The Elder Scrolls V: Skyrim (2011)</h3><strong>Genre:</strong> Role-Playing Game(RPG)<br><strong>Platform:</strong> PC, PlayStation, Xbox, Nintendo Switch<br><strong>Details:</strong> Set in the fantasy world of Tamriel, Skyrim offers a massive open world with a deep narrative, rich lore, and extensive character customization. Players can engage in quests, join factions, and develop their skills and abilities. The game is known for its modding community and numerous re-releases on different platforms.</p>\n",
    "                <p><h3>3. Minecraft (2011)</h3><strong>Genre:</strong> Sandbox/Survival<br><strong>Platform:</strong> PC, Console, Mobile<br><strong>Details:</strong> A block-building game that allows players to create and explore procedurally generated worlds made of blocks. It features a survival mode where players must gather resources and fend off creatures, and a creative mode that enables unlimited building. Minecraft's simple yet powerful mechanics have made it a cultural phenomenon.</p>\n",
    "                <p><h3>4. Red Dead Redemption 2 (2018)</h3><strong>Genre:</strong> Action-Adventure<br><strong>Platform:</strong> PC, Playstation, Xbox<br><strong>Details:</strong> Set in the late 1800s, this open-world game follows Arthur Morgan, an outlaw and member of the Van der Linde gang. The game is praised for its detailed world, storytelling, and realistic depiction of the American frontier. It features a living world with dynamic weather and a complex honor system affecting player choices.</p>\n",
    "                <p><h3>5. Overwatch (2016)</h3><strong>Genre:</strong> First-Person Shooter(FPS)<br><strong>Platform:</strong> PC, PlayStation, Xbox, Nintendo Switch<br><strong>Details:</strong> A team-based shooter with a diverse roster of heroes, each with unique abilities. Players work in teams to complete objectives and compete in various game modes. The game is known for its vibrant art style, diverse character roster, and emphasis on teamwork and strategy.</p>\n",
    "                <p><h3>6. Hades (2020)</h3><strong>Genre:</strong> Roguelike Dungeon Crawler<br><strong>Platform:</strong> PC, Nintendo Switch, PlayStation, Xbox<br><strong>Details:</strong> A critically acclaimed roguelike game set in the Greek underworld. Players control Zagreus, the son of Hades, as he attempts to escape the Underworld. The game features fast-paced combat, a rich narrative with character interactions, and a unique art style. Its replayability is enhanced by procedurally generated levels and a variety of upgrades.</p>\n",
    "                <p><h3>7. The Witcher 3: Wild Hunt (2015)</h3><strong>Genre:</strong> Role-Playing Game(RPG)<br><strong>Platform:</strong> PC, Nintendo Switch, PlayStation, Xbox<br><strong>Details:</strong> This RPG follows Geralt of Rivia, a monster hunter, in a sprawling open world filled with quests, complex characters, and branching storylines. Known for its deep narrative, detailed world, and moral choices, it has won numerous Game of the Year awards. The game also includes two major expansions, \"Hearts of Stone\" and \"Blood and Wine.\"</p>\n",
    "                <p><h3>8. Among Us (2018)</h3><strong>Genre:</strong> Social Deduction<br><strong>Platform:</strong> PC, Mobile, Console<br><strong>Details:</strong> A multiplayer game where players work together to complete tasks on a spaceship while impostors attempt to sabotage their efforts and eliminate crew members. The game relies heavily on social interaction, communication, and deception, making each session unique and engaging.</p>\n",
    "                <p><h3>9. Celeste (2018)</h3><strong>Genre:</strong> Platformer<br><strong>Platform:</strong> PC, PlayStation, Xbox, Nintendo Switch<br><strong>Details:</strong> A platforming game about climbing a mountain, both physically and metaphorically. It features tight, precise controls and challenging levels, combined with a touching narrative about overcoming personal struggles. The game is praised for its gameplay, music, and story.</p>\n",
    "                <p><h3>10. Fortnite (2017)</h3><strong>Genre:</strong> Battle Royale/Survival<br><strong>Platform:</strong> PC, PlayStation, Xbox, Nintendo Switch, Mobile<br><strong>Details:</strong> A massively popular battle royale game where 100 players fight to be the last one standing. Known for its building mechanics, colorful art style, and frequent updates, Fortnite has become a major cultural phenomenon with its integration of events and collaborations with various franchises.</p>\n",
    "            </div>\n",
    "        </section>\n",
    "        <section id=\"tips\">\n",
    "            <div class=\"container\">\n",
    "                <h2>Tips & Tricks</h2>\n",
    "                <p>Enhance your gaming skills with these useful tips and tricks. Whether you're a novice or a pro, you'll find valuable advice to improve your gameplay.</p>\n",
    "                <button id=\"randomTipButton\">Get Random Tip</button>\n",
    "                <p id=\"randomTip\"></p>\n",
    "            </div>\n",
    "        </section>\n",
    "        <section id=\"mods\">\n",
    "            <div class=\"container\">\n",
    "                <h2>Mods</h2>\n",
    "                <p>Explore popular mods that can enhance and customize your gaming experience. Find mods for a variety of games and take your gameplay to the next level:<h3>The Legend of Zelda: Breath of The Wild</h3><strong>Breath of the Wild Modding Toolkit</strong> - A collection of tools for modding the game.<br><strong>BotW HD Texture Pack</strong> - Enhances the game's textures to higher resolution.<h3>The Elder Scrolls V: Skyrim</h3><strong>Skyrim Script Extender</strong> - A framework that allows for complex mods and scripts.<br><strong>Static Mesh Improvement Mod (SMIM)</strong> - Enhances the game's 3D models and textures.<h3>Minecraft</h3><strong>OptiFine</strong> - Enhances graphics and performance, offering better control over visual settings and improving game speed.<br><strong>Biomes O' Plenty</strong> - Introduces new biomes, plants, and creatures to diversify the game's world.<h3>Red Dead Redemption 2</h3><strong>Lenny's Mod Loader</strong> - Simplifies the process of installing and managing mods.<br><strong>Red Dead Redemption 2 Trainer</strong> - Adds various cheats and customization options, like adjusting player stats and world settings.<h3>Overwatch</h3><strong>Overwatch Workshop</strong> - Allows players to create and customize their own game modes and rules within the game.<br><strong>Classic Overwatch</strong> - Modifies gameplay to resemble earlier versions of the game before major updates and balance changes.<h3>Hades</h3><strong>God Mode</strong> - Provides an easier mode for players who want to enjoy the story without the challenge of permadeath.<br><strong>Zagreus's Wardrobe</strong> - Allows players to change Zagreus's appearance and outfit.<h3>The Witcher 3: Wild Hunt</h3><strong>Wild Hunt Rebalanced</strong> - Adjusts various gameplay aspects, including combat and loot, for a different experience.<br><strong>Alternate Looks</strong> - Provides new outfits and visual changes for Geralt and other characters.<h3>Among Us</h3><strong>BetterCrewLink</strong> - Enhances voice chat functionality and integrates with the game for a more seamless communication experience.<br><strong>More Roles</strong> - Adds new roles and abilities for players, expanding the social deduction mechanics.<h3>Celeste</h3><strong>Additional Chapters</strong> - Adds new levels and challenges created by the community, extending the game's content.<br><strong>Character Customization</strong> - Offers new skins and options for customizing the protagonist, Madeline.<h3>Fortnite</h3><strong>Creative Mode Custom Maps</strong> - Expands the game with new custom maps and game modes created by the community.<br><strong>Battle Royale Mods</strong> - Provides different gameplay rules and mechanics for the battle royale mode.</p>\n",
    "            </div>\n",
    "        </section>\n",
    "        <section id=\"community\">\n",
    "            <div class=\"container\">\n",
    "                <h2>Community</h2>\n",
    "                <p><strong>The Legend of Zelda: Breath of the Wild</strong> - The community is passionate and creative, often focused on exploration, lore, and modding. Fans share discoveries about the game's secrets, create fan art, and discuss theories about Hyrule's history. The modding community is smaller compared to some other games but is dedicated to enhancing or altering the gameplay experience. Platforms include Twitter, Reddit, Fan Forums, and Youtube channels.<br><strong>The Elder Scrolls V: Skyrim</strong> - Skyrim has one of the most vibrant and extensive communities in gaming. The community is known for its modding culture, with thousands of mods available that drastically change the game. Fans are also active in discussing lore, role-playing, and creating content like fan fiction and machinima. Platforms include Reddit, Nexus Mods, and the Steam Community.<br><strong>Minecraft</strong> - Minecraft boasts a diverse and global community, including players of all ages. The community is known for its creativity in building, modding, and community events. There are numerous fan-made servers, custom mods, and content creators who focus on everything from survival challenges to intricate redstone contraptions. Platforms include Reddit, Minecraft forums, YouTube, Twitch, and Discord servers.<br><strong>Red Dead Redemption 2</strong> - The community is deeply invested in the game's rich storytelling and immersive world. Players discuss narrative elements, role-playing in online modes, and share screenshots and stories from their adventures. The modding community is active but somewhat smaller compared to older titles. Platforms include Reddit, Rockstar Games forums, and YouTube.<br><strong>Overwatch</strong> - Overwatch’s community is very engaged with its competitive scene and diverse roster of heroes. Discussions often revolve around strategies, hero balance, and competitive play. The community also enjoys creating fan art, cosplay, and lore content. The game's emphasis on teamwork fosters a collaborative environment. Platforms include Reddit, Discord, YouTube, and official Blizzard forums.<br><strong>Hades</strong> - Hades has a dedicated community that enjoys its fast-paced gameplay and rich narrative. Fans are active in discussing strategies, sharing their runs, and exploring the game’s story. The modding community is growing, with mods focusing on new content and quality-of-life improvements. Platforms include Reddit, Discord, YouTube, and Steam Community.<br><strong>The Witcher 3: Wild Hunt</strong> - The Witcher 3 has a strong community centered around its deep narrative and complex characters. Fans engage in discussions about the lore, story, and characters, and are very active in creating and sharing mods. The modding community is robust, offering everything from graphical enhancements to new questlines. Platforms include Reddit, Nexus Mods, and CD Projekt Red forums.<br><strong>Among Us</strong> - Among Us has a vibrant and dynamic community focused on social deduction and gameplay strategies. Players often share tips, strategies, and funny moments from their sessions. The modding scene is growing, with mods adding new roles and features to enhance the gameplay experience. Platforms include Reddit, Discord, YouTube, and Twitch.<br><strong>Celeste</strong> - Celeste’s community is known for its supportive and passionate nature. Fans discuss strategies for tackling difficult levels, share speedrun techniques, and create fan art and music. The modding community is active, with new levels and content regularly being created and shared. Platforms include Reddit, Discord, and various fan forums and YouTube.<br><strong>Fortnite</strong> - Fortnite’s community is massive and highly diverse, with a strong focus on competitive play and creative expression. The community is known for its fan-created content, including custom maps and game modes, as well as its involvement in events and collaborations with other franchises. The game's frequent updates and seasonal events keep the community engaged and active. Platforms include Reddit, Discord, YouTube, and Twitch.</p>\n",
    "            </div>\n",
    "        </section>\n",
    "    </main>\n",
    "    <script>\n",
    "        document.getElementById('randomTipButton').addEventListener('click', function() {\n",
    "            const tips = [\n",
    "                'The Legend of Zelda: Breath of the Wild - Explore Everywhere: The game’s vast world is filled with hidden treasures and unique encounters. Climb any mountain or tower you see to unlock new areas on your map.',\n",
    "                'The Legend of Zelda: Breath of the Wild - Experiment with Cooking: Combining different ingredients can result in powerful dishes and elixirs that restore health and grant temporary boosts. Experiment to find recipes that suit your playstyle.',\n",
    "                'The Elder Scrolls V: Skyrim - Join Factions: Engage with different factions like the Thieves Guild, Dark Brotherhood, and Companions for unique quests, rewards, and storylines.',\n",
    "                'The Elder Scrolls V: Skyrim - Level Up Skills: Focus on developing specific skills like smithing, enchanting, or alchemy to enhance your equipment and abilities. It can make your journey easier and more enjoyable.',\n",
    "                'Minecraft - Start with a Shelter: Begin by building a simple shelter to protect yourself from monsters at night. Collect resources like wood and stone to upgrade your tools and weapons.',\n",
    "                'Minecraft - Mine Strategically: Dig down to find valuable resources like diamonds and iron, but be cautious of lava and cave systems. Use a staircase or ladder system to avoid getting lost.',\n",
    "                'Red Dead Redemption 2 - Pay Attention to Honor: Your actions affect your honor rating, which influences how NPCs interact with you and affects the storyline. Choose your actions wisely to maintain a high honor rating.',\n",
    "                'Red Dead Redemption 2 - Explore the World: The game’s open world is full of dynamic events, wildlife, and secrets. Take your time to explore and engage with the environment.',\n",
    "                'Overwatch - Play as a Team: Overwatch is a team-based game where coordination is key. Communicate with your team and choose heroes that complement each other’s abilities.',\n",
    "                'Overwatch - Master Multiple Heroes: While specializing in one hero can be beneficial, being versatile and understanding multiple heroes’ abilities can help you adapt to various situations.',\n",
    "                'Hades - Experiment with Builds: Try different weapon and boon combinations to find a build that suits your playstyle. Each run can be different, so experimenting can help you find effective strategies.',\n",
    "                'Hades - Upgrade Daedalus Hammer and Boons: These are crucial for enhancing your weapons and abilities. Prioritize upgrading them to make each run smoother.',\n",
    "                'The Witcher 3: Wild Hunt - Explore Secondary Quests: Many secondary quests have rich stories and valuable rewards. Explore them to get the most out of the game.',\n",
    "                'The Witcher 3: Wild Hunt - Upgrade Gear: Collect and craft better gear to enhance Geralt’s combat effectiveness. The Witcher gear sets, in particular, provide significant bonuses.',\n",
    "                'Among Us - Communicate Clearly: Good communication is key in Among Us. Share information, discuss suspicions, and listen to others to deduce who the impostors are.',\n",
    "                'Among Us - Complete Tasks Efficiently: As a crewmate, focus on completing tasks while keeping an eye on suspicious behavior. Efficient task completion helps your team win.',\n",
    "                'Celeste - Practice Makes Perfect: The game’s levels are designed to be challenging but fair. Keep practicing, and don’t get discouraged by difficulty.',\n",
    "                'Celeste - Use Dash Wisely: Your dash ability is essential for navigating tricky sections. Learn to use it strategically to avoid obstacles and reach platforms.',\n",
    "                'Fortnite - Master Building Mechanics: Building structures quickly and efficiently can give you a significant advantage in battles. Practice building to improve your skills.',\n",
    "                'Fortnite - Stay Updated on Meta Changes: Fortnite frequently updates its content, including weapon balancing and new items. Stay informed about changes to adapt your strategies.'\n",
    "            ];\n",
    "            const randomTip = tips[Math.floor(Math.random() * tips.length)];\n",
    "            document.getElementById('randomTip').textContent = randomTip;\n",
    "        });\n",
    "                </script>\n",
    "</body>\n",
    "</html>"
   ]
  }
 ],
 "metadata": {
  "language_info": {
   "name": "python"
  }
 },
 "nbformat": 4,
 "nbformat_minor": 2
}
