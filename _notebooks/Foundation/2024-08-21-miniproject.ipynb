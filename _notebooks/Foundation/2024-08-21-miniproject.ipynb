{
 "cells": [
  {
   "cell_type": "raw",
   "metadata": {
    "vscode": {
     "languageId": "raw"
    }
   },
   "source": [
    "---\n",
    "layout: post\n",
    "title: Mini Project \n",
    "description:  A Gaming Blog!\n",
    "type: issues \n",
    "comments: true\n",
    "---"
   ]
  },
  {
   "cell_type": "code",
   "execution_count": null,
   "metadata": {
    "vscode": {
     "languageId": "html"
    }
   },
   "outputs": [],
   "source": [
    "<!DOCTYPE html>\n",
    "<html lang=\"en\">\n",
    "<head>\n",
    "    <meta charset=\"UTF-8\">\n",
    "    <meta name=\"viewport\" content=\"width=device-width, initial-scale=1.0\">\n",
    "    <title>Gaming Blog</title>\n",
    "    <link rel=\"stylesheet\" href=\"styles.css\"> <!-- Link to your CSS file -->\n",
    "</head>\n",
    "<body>\n",
    "    <header>\n",
    "        <div class=\"container\">\n",
    "            <h1>Gaming Blog</h1>\n",
    "            <nav id=\"submenu\">\n",
    "                <ul>\n",
    "                    <li><a href=\"#games\">Games</a></li>\n",
    "                    <li><a href=\"#tips\">Tips & Tricks</a></li>\n",
    "                    <li><a href=\"#mods\">Mods</a></li>\n",
    "                    <li><a href=\"#community\">Community</a></li>\n",
    "                </ul>\n",
    "            </nav>\n",
    "        </div>\n",
    "    </header>\n",
    "    <main>\n",
    "        <section id=\"games\">\n",
    "            <div class=\"container\">\n",
    "                <h2>Games</h2>\n",
    "                <p>Minecraft: A block game with RNG generation of worlds in which players have to survive and beat the final boss, The Ender Dragon. Fortnite: A third-person shooter game in which players fight to be the last one standing. Roblox: An online gaming platform in which there are different user-made games where people can play. Brawl Stars: A 3v3 multiplayer and battle royale game in which players brawl for different goals to gain trophies. Valorant: A first person shooter game in which players fight against other players and gain ranks.</p>\n",
    "            </div>\n",
    "        </section>\n",
    "        <section id=\"tips\">\n",
    "            <div class=\"container\">\n",
    "                <h2>Tips & Tricks</h2>\n",
    "                <p>Enhance your gaming skills with these useful tips and tricks. Whether you're a novice or a pro, you'll find valuable advice to improve your gameplay.</p>\n",
    "                <button id=\"randomTipButton\">Get Random Tip</button>\n",
    "                <p id=\"randomTip\"></p>\n",
    "            </div>\n",
    "        </section>\n",
    "        <section id=\"mods\">\n",
    "            <div class=\"container\">\n",
    "                <h2>Mods</h2>\n",
    "                <p>Explore popular mods that can enhance and customize your gaming experience. Find mods for a variety of games and take your gameplay to the next level.</p>\n",
    "            </div>\n",
    "        </section>\n",
    "        <section id=\"community\">\n",
    "            <div class=\"container\">\n",
    "                <h2>Community</h2>\n",
    "                <p>Join the conversation with other gamers. Check out forums, social media groups, and other community resources to connect with fellow enthusiasts.</p>\n",
    "            </div>\n",
    "        </section>\n",
    "    </main>\n",
    "    <footer>\n",
    "        <div class=\"container\">\n",
    "            <p>&copy; 2024 Gaming Blog. All rights reserved.</p>\n",
    "        </div>\n",
    "    </footer>\n",
    "    <script src=\"miniproject.js\"></script> <!-- Link to your JavaScript file -->\n",
    "</body>\n",
    "</html>"
   ]
  }
 ],
 "metadata": {
  "language_info": {
   "name": "python"
  }
 },
 "nbformat": 4,
 "nbformat_minor": 2
}
