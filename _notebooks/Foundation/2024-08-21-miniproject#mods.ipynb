{
 "cells": [
  {
   "cell_type": "raw",
   "metadata": {
    "vscode": {
     "languageId": "raw"
    }
   },
   "source": [
    "---\n",
    "layout: post\n",
    "title: Mods \n",
    "description:  Mods for Gaming Blog\n",
    "type: issues \n",
    "comments: true\n",
    "menu: nav/miniproject.html\n",
    "---"
   ]
  },
  {
   "cell_type": "markdown",
   "metadata": {
    "vscode": {
     "languageId": "html"
    }
   },
   "source": [
    "<html lang=\"en\">\n",
    "<body>\n",
    "    <main>\n",
    "        <section id=\"mods\">\n",
    "            <div class=\"container\">\n",
    "                <p>Explore popular mods that can enhance and customize your gaming experience. Find mods for a variety of games and take your gameplay to the next level:<h3>The Legend of Zelda: Breath of The Wild</h3><strong>Breath of the Wild Modding Toolkit</strong> - A collection of tools for modding the game.<br><strong>BotW HD Texture Pack</strong> - Enhances the game's textures to higher resolution.<h3>The Elder Scrolls V: Skyrim</h3><strong>Skyrim Script Extender</strong> - A framework that allows for complex mods and scripts.<br><strong>Static Mesh Improvement Mod (SMIM)</strong> - Enhances the game's 3D models and textures.<h3>Minecraft</h3><strong>OptiFine</strong> - Enhances graphics and performance, offering better control over visual settings and improving game speed.<br><strong>Biomes O' Plenty</strong> - Introduces new biomes, plants, and creatures to diversify the game's world.<h3>Red Dead Redemption 2</h3><strong>Lenny's Mod Loader</strong> - Simplifies the process of installing and managing mods.<br><strong>Red Dead Redemption 2 Trainer</strong> - Adds various cheats and customization options, like adjusting player stats and world settings.<h3>Overwatch</h3><strong>Overwatch Workshop</strong> - Allows players to create and customize their own game modes and rules within the game.<br><strong>Classic Overwatch</strong> - Modifies gameplay to resemble earlier versions of the game before major updates and balance changes.<h3>Hades</h3><strong>God Mode</strong> - Provides an easier mode for players who want to enjoy the story without the challenge of permadeath.<br><strong>Zagreus's Wardrobe</strong> - Allows players to change Zagreus's appearance and outfit.<h3>The Witcher 3: Wild Hunt</h3><strong>Wild Hunt Rebalanced</strong> - Adjusts various gameplay aspects, including combat and loot, for a different experience.<br><strong>Alternate Looks</strong> - Provides new outfits and visual changes for Geralt and other characters.<h3>Among Us</h3><strong>BetterCrewLink</strong> - Enhances voice chat functionality and integrates with the game for a more seamless communication experience.<br><strong>More Roles</strong> - Adds new roles and abilities for players, expanding the social deduction mechanics.<h3>Celeste</h3><strong>Additional Chapters</strong> - Adds new levels and challenges created by the community, extending the game's content.<br><strong>Character Customization</strong> - Offers new skins and options for customizing the protagonist, Madeline.<h3>Fortnite</h3><strong>Creative Mode Custom Maps</strong> - Expands the game with new custom maps and game modes created by the community.<br><strong>Battle Royale Mods</strong> - Provides different gameplay rules and mechanics for the battle royale mode.</p>\n",
    "            </div>\n",
    "        </section>\n",
    "    </main>\n",
    "</body>\n",
    "</html>"
   ]
  }
 ],
 "metadata": {
  "language_info": {
   "name": "python"
  }
 },
 "nbformat": 4,
 "nbformat_minor": 2
}
